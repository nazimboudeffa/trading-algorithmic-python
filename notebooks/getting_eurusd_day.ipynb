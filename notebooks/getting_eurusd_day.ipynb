{
 "cells": [
  {
   "cell_type": "code",
   "execution_count": 1,
   "id": "27582098-4c56-46c6-941e-61bcb0414f39",
   "metadata": {},
   "outputs": [],
   "source": [
    "import pandas as pd\n",
    "import yfinance as yf\n",
    "from datetime import timedelta, datetime"
   ]
  },
  {
   "cell_type": "code",
   "execution_count": 2,
   "id": "f01007ba-29cd-4828-9caf-8bfb3ec5c40e",
   "metadata": {},
   "outputs": [],
   "source": [
    "delta = timedelta(days=-300)# I need 300 days history data\n",
    "today = datetime.now()"
   ]
  },
  {
   "cell_type": "code",
   "execution_count": 3,
   "id": "8576b40e-bd85-4091-87c6-12931f2c00f4",
   "metadata": {},
   "outputs": [
    {
     "name": "stderr",
     "output_type": "stream",
     "text": [
      "[*********************100%%**********************]  1 of 1 completed\n"
     ]
    }
   ],
   "source": [
    "data = yf.download('EURUSD=X', today+delta)"
   ]
  },
  {
   "cell_type": "code",
   "execution_count": 4,
   "id": "5ff2fee7-1eca-43e0-8103-05145ffedbd7",
   "metadata": {},
   "outputs": [],
   "source": [
    "try:\n",
    "    TEMP = data.copy(deep=True)\n",
    "    TEMP = TEMP.dropna()\n",
    "    TEMP.to_csv(\"data\"+\"/\"+\"EURUSD_1D\"+\".csv\")\n",
    "except:\n",
    "    print(\"Unable to load data\")"
   ]
  }
 ],
 "metadata": {
  "kernelspec": {
   "display_name": "Python 3 (ipykernel)",
   "language": "python",
   "name": "python3"
  },
  "language_info": {
   "codemirror_mode": {
    "name": "ipython",
    "version": 3
   },
   "file_extension": ".py",
   "mimetype": "text/x-python",
   "name": "python",
   "nbconvert_exporter": "python",
   "pygments_lexer": "ipython3",
   "version": "3.11.7"
  }
 },
 "nbformat": 4,
 "nbformat_minor": 5
}
