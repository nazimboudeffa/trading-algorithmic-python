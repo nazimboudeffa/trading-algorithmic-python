{
 "cells": [
  {
   "cell_type": "code",
   "execution_count": 4,
   "id": "db564938-5e6a-4a9c-8434-e9a019dc0b94",
   "metadata": {},
   "outputs": [],
   "source": [
    "import pandas as pd\n",
    "import yfinance as yf\n",
    "from datetime import timedelta, datetime"
   ]
  },
  {
   "cell_type": "code",
   "execution_count": 6,
   "id": "f2a630d2-893d-44c1-9d63-fb2c825aa274",
   "metadata": {},
   "outputs": [],
   "source": [
    "SYMBOLS = ['AUDUSD', 'GBPUSD', 'CADUSD', 'CHFUSD', 'EURUSD', 'JPYUSD', 'NZDUSD']\n",
    "delta = timedelta(days=-300)\n",
    "today = datetime.now()"
   ]
  },
  {
   "cell_type": "code",
   "execution_count": 8,
   "id": "90fa8419-601c-4f25-8f33-108b636ae251",
   "metadata": {},
   "outputs": [
    {
     "name": "stderr",
     "output_type": "stream",
     "text": [
      "[*********************100%%**********************]  1 of 1 completed\n",
      "[*********************100%%**********************]  1 of 1 completed\n",
      "[*********************100%%**********************]  1 of 1 completed\n",
      "[*********************100%%**********************]  1 of 1 completed\n",
      "[*********************100%%**********************]  1 of 1 completed\n",
      "[*********************100%%**********************]  1 of 1 completed\n",
      "[*********************100%%**********************]  1 of 1 completed\n"
     ]
    }
   ],
   "source": [
    "for symbol in SYMBOLS:\n",
    "    try:\n",
    "        data = yf.download(symbol+'=x', today+delta)\n",
    "        TEMP = data.copy(deep=True)\n",
    "        TEMP = TEMP.dropna()\n",
    "        TEMP.to_csv(\"data\"+\"/\"+symbol+\"_D1\"+\".csv\")\n",
    "    except:\n",
    "        print(\"Unable to load data\")"
   ]
  },
  {
   "cell_type": "code",
   "execution_count": null,
   "id": "923caa9c-d65c-4015-8655-11e89f6a7872",
   "metadata": {},
   "outputs": [],
   "source": []
  }
 ],
 "metadata": {
  "kernelspec": {
   "display_name": "Python 3 (ipykernel)",
   "language": "python",
   "name": "python3"
  },
  "language_info": {
   "codemirror_mode": {
    "name": "ipython",
    "version": 3
   },
   "file_extension": ".py",
   "mimetype": "text/x-python",
   "name": "python",
   "nbconvert_exporter": "python",
   "pygments_lexer": "ipython3",
   "version": "3.13.2"
  }
 },
 "nbformat": 4,
 "nbformat_minor": 5
}
