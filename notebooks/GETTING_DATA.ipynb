{
 "cells": [
  {
   "cell_type": "code",
   "execution_count": 1,
   "id": "33a7aa7c-d805-4730-852e-16e6c2301838",
   "metadata": {},
   "outputs": [],
   "source": [
    "import pandas as pd\n",
    "import yfinance as yf\n",
    "from datetime import timedelta, datetime"
   ]
  },
  {
   "cell_type": "code",
   "execution_count": 2,
   "id": "3459361f-b6a6-4aff-91ea-c9f72ffa1cad",
   "metadata": {},
   "outputs": [],
   "source": [
    "delta = timedelta(days=-300)# I need 300 days history data\n",
    "today = datetime.now()"
   ]
  },
  {
   "cell_type": "code",
   "execution_count": 9,
   "id": "0f47a685-22dc-4eea-bbf3-05276e869809",
   "metadata": {},
   "outputs": [
    {
     "name": "stderr",
     "output_type": "stream",
     "text": [
      "[*********************100%%**********************]  1 of 1 completed\n"
     ]
    }
   ],
   "source": [
    "data = yf.download('GOOG', today+delta)\n"
   ]
  },
  {
   "cell_type": "code",
   "execution_count": 14,
   "id": "1ebe2120-5c01-4734-863b-ef536ab11f8e",
   "metadata": {},
   "outputs": [],
   "source": [
    "try:\n",
    "    TEMP = data.copy(deep=True)\n",
    "    TEMP = TEMP.dropna()\n",
    "    TEMP.to_csv(\"stock_data\"+\"/\"+\"GOOG\"+\".csv\")\n",
    "except:\n",
    "    print(\"Unable to load data\")"
   ]
  },
  {
   "cell_type": "code",
   "execution_count": null,
   "id": "048a6e38-d93f-4e65-b813-df2dd59d27ff",
   "metadata": {},
   "outputs": [],
   "source": []
  }
 ],
 "metadata": {
  "kernelspec": {
   "display_name": "Python 3 (ipykernel)",
   "language": "python",
   "name": "python3"
  },
  "language_info": {
   "codemirror_mode": {
    "name": "ipython",
    "version": 3
   },
   "file_extension": ".py",
   "mimetype": "text/x-python",
   "name": "python",
   "nbconvert_exporter": "python",
   "pygments_lexer": "ipython3",
   "version": "3.11.7"
  }
 },
 "nbformat": 4,
 "nbformat_minor": 5
}
