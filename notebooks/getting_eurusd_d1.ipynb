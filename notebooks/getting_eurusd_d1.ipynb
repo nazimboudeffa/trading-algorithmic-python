{
 "cells": [
  {
   "cell_type": "code",
   "execution_count": 1,
   "id": "27582098-4c56-46c6-941e-61bcb0414f39",
   "metadata": {},
   "outputs": [],
   "source": [
    "import pandas as pd\n",
    "import yfinance as yf\n",
    "from datetime import timedelta, datetime"
   ]
  },
  {
   "cell_type": "code",
   "execution_count": 2,
   "id": "f01007ba-29cd-4828-9caf-8bfb3ec5c40e",
   "metadata": {},
   "outputs": [],
   "source": [
    "delta = timedelta(days=-300)# I need 300 days history data\n",
    "today = datetime.now()"
   ]
  },
  {
   "cell_type": "code",
   "execution_count": 3,
   "id": "8576b40e-bd85-4091-87c6-12931f2c00f4",
   "metadata": {},
   "outputs": [
    {
     "name": "stderr",
     "output_type": "stream",
     "text": [
      "[*********************100%%**********************]  1 of 1 completed\n"
     ]
    }
   ],
   "source": [
    "data = yf.download('EURUSD=X', today+delta)"
   ]
  },
  {
   "cell_type": "code",
   "execution_count": 4,
   "id": "5ff2fee7-1eca-43e0-8103-05145ffedbd7",
   "metadata": {},
   "outputs": [],
   "source": [
    "try:\n",
    "    TEMP = data.copy(deep=True)\n",
    "    TEMP = TEMP.dropna()\n",
    "    TEMP.to_csv(\"data\"+\"/\"+\"EURUSD_D1\"+\".csv\")\n",
    "except:\n",
    "    print(\"Unable to load data\")"
   ]
  },
  {
   "cell_type": "code",
   "execution_count": 5,
   "id": "ad321fb8-8b14-42a1-ad30-c1b102dbe9ed",
   "metadata": {},
   "outputs": [
    {
     "data": {
      "text/html": [
       "<div>\n",
       "<style scoped>\n",
       "    .dataframe tbody tr th:only-of-type {\n",
       "        vertical-align: middle;\n",
       "    }\n",
       "\n",
       "    .dataframe tbody tr th {\n",
       "        vertical-align: top;\n",
       "    }\n",
       "\n",
       "    .dataframe thead th {\n",
       "        text-align: right;\n",
       "    }\n",
       "</style>\n",
       "<table border=\"1\" class=\"dataframe\">\n",
       "  <thead>\n",
       "    <tr style=\"text-align: right;\">\n",
       "      <th></th>\n",
       "      <th>Open</th>\n",
       "      <th>High</th>\n",
       "      <th>Low</th>\n",
       "      <th>Close</th>\n",
       "      <th>Adj Close</th>\n",
       "      <th>Volume</th>\n",
       "    </tr>\n",
       "    <tr>\n",
       "      <th>Date</th>\n",
       "      <th></th>\n",
       "      <th></th>\n",
       "      <th></th>\n",
       "      <th></th>\n",
       "      <th></th>\n",
       "      <th></th>\n",
       "    </tr>\n",
       "  </thead>\n",
       "  <tbody>\n",
       "    <tr>\n",
       "      <th>2024-01-11</th>\n",
       "      <td>1.097514</td>\n",
       "      <td>1.099143</td>\n",
       "      <td>1.093147</td>\n",
       "      <td>1.097514</td>\n",
       "      <td>1.097514</td>\n",
       "      <td>0</td>\n",
       "    </tr>\n",
       "    <tr>\n",
       "      <th>2024-01-12</th>\n",
       "      <td>1.098165</td>\n",
       "      <td>1.098660</td>\n",
       "      <td>1.093709</td>\n",
       "      <td>1.098165</td>\n",
       "      <td>1.098165</td>\n",
       "      <td>0</td>\n",
       "    </tr>\n",
       "    <tr>\n",
       "      <th>2024-01-15</th>\n",
       "      <td>1.094571</td>\n",
       "      <td>1.095890</td>\n",
       "      <td>1.093410</td>\n",
       "      <td>1.094571</td>\n",
       "      <td>1.094571</td>\n",
       "      <td>0</td>\n",
       "    </tr>\n",
       "    <tr>\n",
       "      <th>2024-01-16</th>\n",
       "      <td>1.094571</td>\n",
       "      <td>1.094667</td>\n",
       "      <td>1.086708</td>\n",
       "      <td>1.094571</td>\n",
       "      <td>1.094571</td>\n",
       "      <td>0</td>\n",
       "    </tr>\n",
       "    <tr>\n",
       "      <th>2024-01-17</th>\n",
       "      <td>1.088021</td>\n",
       "      <td>1.088732</td>\n",
       "      <td>1.085541</td>\n",
       "      <td>1.086484</td>\n",
       "      <td>1.086484</td>\n",
       "      <td>0</td>\n",
       "    </tr>\n",
       "  </tbody>\n",
       "</table>\n",
       "</div>"
      ],
      "text/plain": [
       "                Open      High       Low     Close  Adj Close  Volume\n",
       "Date                                                                 \n",
       "2024-01-11  1.097514  1.099143  1.093147  1.097514   1.097514       0\n",
       "2024-01-12  1.098165  1.098660  1.093709  1.098165   1.098165       0\n",
       "2024-01-15  1.094571  1.095890  1.093410  1.094571   1.094571       0\n",
       "2024-01-16  1.094571  1.094667  1.086708  1.094571   1.094571       0\n",
       "2024-01-17  1.088021  1.088732  1.085541  1.086484   1.086484       0"
      ]
     },
     "execution_count": 5,
     "metadata": {},
     "output_type": "execute_result"
    }
   ],
   "source": [
    "data.tail()"
   ]
  },
  {
   "cell_type": "code",
   "execution_count": null,
   "id": "f2720d2d-6596-4349-b302-4644ef2e6ac4",
   "metadata": {},
   "outputs": [],
   "source": []
  }
 ],
 "metadata": {
  "kernelspec": {
   "display_name": "Python 3 (ipykernel)",
   "language": "python",
   "name": "python3"
  },
  "language_info": {
   "codemirror_mode": {
    "name": "ipython",
    "version": 3
   },
   "file_extension": ".py",
   "mimetype": "text/x-python",
   "name": "python",
   "nbconvert_exporter": "python",
   "pygments_lexer": "ipython3",
   "version": "3.11.7"
  }
 },
 "nbformat": 4,
 "nbformat_minor": 5
}
