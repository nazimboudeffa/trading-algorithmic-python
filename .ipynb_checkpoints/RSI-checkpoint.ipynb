{
 "cells": [
  {
   "cell_type": "code",
   "execution_count": 1,
   "id": "5622e077-3dbf-49e6-89ab-c45d23a12165",
   "metadata": {},
   "outputs": [],
   "source": [
    "import yfinance as yf\n",
    "import matplotlib.pyplot as plt\n",
    "plt.style.use('fivethirtyeight')"
   ]
  },
  {
   "cell_type": "code",
   "execution_count": 5,
   "id": "3ede1d93-0bff-41d5-b8c2-3da1d686409f",
   "metadata": {},
   "outputs": [
    {
     "name": "stderr",
     "output_type": "stream",
     "text": [
      "[*********************100%%**********************]  1 of 1 completed\n"
     ]
    }
   ],
   "source": [
    "df = yf.download('EURUSD=X', interval='30m', period=\"1d\")"
   ]
  },
  {
   "cell_type": "code",
   "execution_count": 9,
   "id": "30d52d88-5349-420c-bf00-af1c8358b05a",
   "metadata": {},
   "outputs": [],
   "source": [
    "def RSI(df):\n",
    "    delta = df['Close'].diff()\n",
    "    gain = delta.where(delta > 0, 0)\n",
    "    loss = delta.where(delta < 0, 0)\n",
    "    avg_gain = gain.rolling(window=13).mean()\n",
    "    avg_loss = loss.rolling(window=13).mean()\n",
    "    RS = avg_gain / avg_loss\n",
    "    RSI = 100 - (100/(1+RS))\n",
    "    df['RSI'] = RSI\n",
    "    df['Overbought'] = 70\n",
    "    df['Oversold'] = 30\n",
    "    return df"
   ]
  },
  {
   "cell_type": "code",
   "execution_count": 10,
   "id": "7e77f752-0191-49c7-b296-d3af74837001",
   "metadata": {},
   "outputs": [
    {
     "ename": "TypeError",
     "evalue": "NDFrame.rolling() missing 1 required positional argument: 'window'",
     "output_type": "error",
     "traceback": [
      "\u001b[0;31m---------------------------------------------------------------------------\u001b[0m",
      "\u001b[0;31mTypeError\u001b[0m                                 Traceback (most recent call last)",
      "Cell \u001b[0;32mIn[10], line 1\u001b[0m\n\u001b[0;32m----> 1\u001b[0m df \u001b[38;5;241m=\u001b[39m RSI(df)\n",
      "Cell \u001b[0;32mIn[9], line 5\u001b[0m, in \u001b[0;36mRSI\u001b[0;34m(df)\u001b[0m\n\u001b[1;32m      3\u001b[0m gain \u001b[38;5;241m=\u001b[39m delta\u001b[38;5;241m.\u001b[39mwhere(delta \u001b[38;5;241m>\u001b[39m \u001b[38;5;241m0\u001b[39m, \u001b[38;5;241m0\u001b[39m)\n\u001b[1;32m      4\u001b[0m loss \u001b[38;5;241m=\u001b[39m delta\u001b[38;5;241m.\u001b[39mwhere(delta \u001b[38;5;241m<\u001b[39m \u001b[38;5;241m0\u001b[39m, \u001b[38;5;241m0\u001b[39m)\n\u001b[0;32m----> 5\u001b[0m avg_gain \u001b[38;5;241m=\u001b[39m gain\u001b[38;5;241m.\u001b[39mrolling()\u001b[38;5;241m.\u001b[39mmean()\n\u001b[1;32m      6\u001b[0m avg_loss \u001b[38;5;241m=\u001b[39m loss\u001b[38;5;241m.\u001b[39mrolling()\u001b[38;5;241m.\u001b[39mmean()\n\u001b[1;32m      7\u001b[0m RS \u001b[38;5;241m=\u001b[39m avg_gain \u001b[38;5;241m/\u001b[39m avg_loss\n",
      "\u001b[0;31mTypeError\u001b[0m: NDFrame.rolling() missing 1 required positional argument: 'window'"
     ]
    }
   ],
   "source": [
    "df = RSI(df)"
   ]
  },
  {
   "cell_type": "code",
   "execution_count": null,
   "id": "1dc0b020-e54b-4bf0-8eba-b44fddc4c6b8",
   "metadata": {},
   "outputs": [],
   "source": []
  }
 ],
 "metadata": {
  "kernelspec": {
   "display_name": "Python 3 (ipykernel)",
   "language": "python",
   "name": "python3"
  },
  "language_info": {
   "codemirror_mode": {
    "name": "ipython",
    "version": 3
   },
   "file_extension": ".py",
   "mimetype": "text/x-python",
   "name": "python",
   "nbconvert_exporter": "python",
   "pygments_lexer": "ipython3",
   "version": "3.11.7"
  }
 },
 "nbformat": 4,
 "nbformat_minor": 5
}
